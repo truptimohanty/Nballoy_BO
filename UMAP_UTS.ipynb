{
 "cells": [
  {
   "cell_type": "markdown",
   "id": "7ba529a2",
   "metadata": {},
   "source": [
    "## Two dimensional UMAP representations of the alloy compostitons (Experimental as well as Suggested)\n"
   ]
  },
  {
   "cell_type": "code",
   "execution_count": 1,
   "id": "fbf0bd4c",
   "metadata": {},
   "outputs": [],
   "source": [
    "import pandas as pd\n",
    "import numpy as np"
   ]
  },
  {
   "cell_type": "markdown",
   "id": "fe9b4021",
   "metadata": {},
   "source": [
    "### UMAP representation for UTS"
   ]
  },
  {
   "cell_type": "code",
   "execution_count": 2,
   "id": "8891bb25",
   "metadata": {},
   "outputs": [],
   "source": [
    "df_all = pd.read_csv('data/EI_UMaP/Nballoy_UTS_all.csv')\n"
   ]
  },
  {
   "cell_type": "code",
   "execution_count": 3,
   "id": "ebce415a",
   "metadata": {},
   "outputs": [
    {
     "data": {
      "text/html": [
       "<div>\n",
       "<style scoped>\n",
       "    .dataframe tbody tr th:only-of-type {\n",
       "        vertical-align: middle;\n",
       "    }\n",
       "\n",
       "    .dataframe tbody tr th {\n",
       "        vertical-align: top;\n",
       "    }\n",
       "\n",
       "    .dataframe thead th {\n",
       "        text-align: right;\n",
       "    }\n",
       "</style>\n",
       "<table border=\"1\" class=\"dataframe\">\n",
       "  <thead>\n",
       "    <tr style=\"text-align: right;\">\n",
       "      <th></th>\n",
       "      <th>formula</th>\n",
       "      <th>T</th>\n",
       "      <th>target</th>\n",
       "    </tr>\n",
       "  </thead>\n",
       "  <tbody>\n",
       "    <tr>\n",
       "      <th>0</th>\n",
       "      <td>Nb99.0Zr1.0</td>\n",
       "      <td>24</td>\n",
       "      <td>330.960000</td>\n",
       "    </tr>\n",
       "    <tr>\n",
       "      <th>1</th>\n",
       "      <td>Nb94.9Zr5.1</td>\n",
       "      <td>16</td>\n",
       "      <td>523.790000</td>\n",
       "    </tr>\n",
       "    <tr>\n",
       "      <th>2</th>\n",
       "      <td>Nb91.2V8.8</td>\n",
       "      <td>24</td>\n",
       "      <td>535.050000</td>\n",
       "    </tr>\n",
       "    <tr>\n",
       "      <th>3</th>\n",
       "      <td>Nb92.0Hf5.4Ti2.0Zr0.5</td>\n",
       "      <td>24</td>\n",
       "      <td>405.430000</td>\n",
       "    </tr>\n",
       "    <tr>\n",
       "      <th>4</th>\n",
       "      <td>Nb88.7Ta5.7W5.6</td>\n",
       "      <td>24</td>\n",
       "      <td>517.130000</td>\n",
       "    </tr>\n",
       "    <tr>\n",
       "      <th>5</th>\n",
       "      <td>Nb74.9Ta17.7W6.2Zr1.3</td>\n",
       "      <td>24</td>\n",
       "      <td>599.180000</td>\n",
       "    </tr>\n",
       "    <tr>\n",
       "      <th>6</th>\n",
       "      <td>Nb79.3Ta19.5Zr1.2</td>\n",
       "      <td>27</td>\n",
       "      <td>606.870000</td>\n",
       "    </tr>\n",
       "    <tr>\n",
       "      <th>7</th>\n",
       "      <td>Nb77.6Ti17.7Zr4.7</td>\n",
       "      <td>22</td>\n",
       "      <td>554.620000</td>\n",
       "    </tr>\n",
       "    <tr>\n",
       "      <th>8</th>\n",
       "      <td>Nb72.8C0.7Mo8.8Ti17.7</td>\n",
       "      <td>24</td>\n",
       "      <td>637.790000</td>\n",
       "    </tr>\n",
       "    <tr>\n",
       "      <th>9</th>\n",
       "      <td>Nb96.4W2.6Zr1.0</td>\n",
       "      <td>24</td>\n",
       "      <td>584.010000</td>\n",
       "    </tr>\n",
       "    <tr>\n",
       "      <th>10</th>\n",
       "      <td>Nb92.9C0.8W5.3Zr1.1</td>\n",
       "      <td>24</td>\n",
       "      <td>672.260000</td>\n",
       "    </tr>\n",
       "    <tr>\n",
       "      <th>11</th>\n",
       "      <td>Nb92.0W5.3Zr2.7</td>\n",
       "      <td>24</td>\n",
       "      <td>601.240000</td>\n",
       "    </tr>\n",
       "    <tr>\n",
       "      <th>12</th>\n",
       "      <td>Nb88.6Hf5.8W5.6</td>\n",
       "      <td>24</td>\n",
       "      <td>584.010000</td>\n",
       "    </tr>\n",
       "    <tr>\n",
       "      <th>13</th>\n",
       "      <td>Nb85.5Mo5.2W8.2Zr1.1</td>\n",
       "      <td>24</td>\n",
       "      <td>834.300000</td>\n",
       "    </tr>\n",
       "    <tr>\n",
       "      <th>14</th>\n",
       "      <td>Nb76.2Mo5.0Ti10.0W7.8Zr1.0</td>\n",
       "      <td>30</td>\n",
       "      <td>849.660000</td>\n",
       "    </tr>\n",
       "    <tr>\n",
       "      <th>15</th>\n",
       "      <td>Nb87.7W11.2Zr1.1</td>\n",
       "      <td>24</td>\n",
       "      <td>1182.490000</td>\n",
       "    </tr>\n",
       "    <tr>\n",
       "      <th>16</th>\n",
       "      <td>Nb85.6V8.8Mo4.7Zr1.0</td>\n",
       "      <td>24</td>\n",
       "      <td>768.100000</td>\n",
       "    </tr>\n",
       "    <tr>\n",
       "      <th>17</th>\n",
       "      <td>Nb87.0Zr1.1Hf0.6W11.3</td>\n",
       "      <td>24</td>\n",
       "      <td>911.427105</td>\n",
       "    </tr>\n",
       "    <tr>\n",
       "      <th>18</th>\n",
       "      <td>Nb86.4Zr1.1Ta1.7W10.8</td>\n",
       "      <td>24</td>\n",
       "      <td>909.526552</td>\n",
       "    </tr>\n",
       "    <tr>\n",
       "      <th>19</th>\n",
       "      <td>Nb85.0Zr1.2Ta3.5W9.7Re0.6</td>\n",
       "      <td>24</td>\n",
       "      <td>910.538551</td>\n",
       "    </tr>\n",
       "    <tr>\n",
       "      <th>20</th>\n",
       "      <td>Nb83.7Zr1.2Ta5.3W9.3Re0.6</td>\n",
       "      <td>24</td>\n",
       "      <td>912.071728</td>\n",
       "    </tr>\n",
       "    <tr>\n",
       "      <th>21</th>\n",
       "      <td>Nb86.4Zr1.1Hf0.6Ta0.6W11.3</td>\n",
       "      <td>24</td>\n",
       "      <td>914.298034</td>\n",
       "    </tr>\n",
       "    <tr>\n",
       "      <th>22</th>\n",
       "      <td>Nb84.9Hf1.8Ta2.9W9.3Re1.1</td>\n",
       "      <td>24</td>\n",
       "      <td>909.160627</td>\n",
       "    </tr>\n",
       "    <tr>\n",
       "      <th>23</th>\n",
       "      <td>Nb85.7Zr1.1Ta2.9W9.1Re1.1</td>\n",
       "      <td>24</td>\n",
       "      <td>909.211553</td>\n",
       "    </tr>\n",
       "    <tr>\n",
       "      <th>24</th>\n",
       "      <td>Nb85.7Zr1.1Ta2.3W10.8</td>\n",
       "      <td>24</td>\n",
       "      <td>912.397481</td>\n",
       "    </tr>\n",
       "    <tr>\n",
       "      <th>25</th>\n",
       "      <td>Nb85.0Zr1.2Hf0.6Ta2.3W10.9</td>\n",
       "      <td>24</td>\n",
       "      <td>912.476138</td>\n",
       "    </tr>\n",
       "    <tr>\n",
       "      <th>26</th>\n",
       "      <td>Nb86.2Hf1.8Ta1.2W9.7Re1.1</td>\n",
       "      <td>24</td>\n",
       "      <td>909.318507</td>\n",
       "    </tr>\n",
       "    <tr>\n",
       "      <th>27</th>\n",
       "      <td>Nb86.9Hf1.2Ta1.2W9.7Re1.1</td>\n",
       "      <td>24</td>\n",
       "      <td>909.369433</td>\n",
       "    </tr>\n",
       "    <tr>\n",
       "      <th>28</th>\n",
       "      <td>Nb87.0Zr1.1Ta0.6W11.3</td>\n",
       "      <td>24</td>\n",
       "      <td>914.503917</td>\n",
       "    </tr>\n",
       "    <tr>\n",
       "      <th>29</th>\n",
       "      <td>Nb84.4Zr1.2Hf0.6Ta2.9W10.9</td>\n",
       "      <td>24</td>\n",
       "      <td>912.212966</td>\n",
       "    </tr>\n",
       "    <tr>\n",
       "      <th>30</th>\n",
       "      <td>Nb86.8Hf1.2Ta0.6W11.4</td>\n",
       "      <td>24</td>\n",
       "      <td>914.254221</td>\n",
       "    </tr>\n",
       "  </tbody>\n",
       "</table>\n",
       "</div>"
      ],
      "text/plain": [
       "                       formula   T       target\n",
       "0                  Nb99.0Zr1.0  24   330.960000\n",
       "1                  Nb94.9Zr5.1  16   523.790000\n",
       "2                   Nb91.2V8.8  24   535.050000\n",
       "3        Nb92.0Hf5.4Ti2.0Zr0.5  24   405.430000\n",
       "4              Nb88.7Ta5.7W5.6  24   517.130000\n",
       "5        Nb74.9Ta17.7W6.2Zr1.3  24   599.180000\n",
       "6            Nb79.3Ta19.5Zr1.2  27   606.870000\n",
       "7            Nb77.6Ti17.7Zr4.7  22   554.620000\n",
       "8        Nb72.8C0.7Mo8.8Ti17.7  24   637.790000\n",
       "9              Nb96.4W2.6Zr1.0  24   584.010000\n",
       "10         Nb92.9C0.8W5.3Zr1.1  24   672.260000\n",
       "11             Nb92.0W5.3Zr2.7  24   601.240000\n",
       "12             Nb88.6Hf5.8W5.6  24   584.010000\n",
       "13        Nb85.5Mo5.2W8.2Zr1.1  24   834.300000\n",
       "14  Nb76.2Mo5.0Ti10.0W7.8Zr1.0  30   849.660000\n",
       "15            Nb87.7W11.2Zr1.1  24  1182.490000\n",
       "16        Nb85.6V8.8Mo4.7Zr1.0  24   768.100000\n",
       "17       Nb87.0Zr1.1Hf0.6W11.3  24   911.427105\n",
       "18       Nb86.4Zr1.1Ta1.7W10.8  24   909.526552\n",
       "19   Nb85.0Zr1.2Ta3.5W9.7Re0.6  24   910.538551\n",
       "20   Nb83.7Zr1.2Ta5.3W9.3Re0.6  24   912.071728\n",
       "21  Nb86.4Zr1.1Hf0.6Ta0.6W11.3  24   914.298034\n",
       "22   Nb84.9Hf1.8Ta2.9W9.3Re1.1  24   909.160627\n",
       "23   Nb85.7Zr1.1Ta2.9W9.1Re1.1  24   909.211553\n",
       "24       Nb85.7Zr1.1Ta2.3W10.8  24   912.397481\n",
       "25  Nb85.0Zr1.2Hf0.6Ta2.3W10.9  24   912.476138\n",
       "26   Nb86.2Hf1.8Ta1.2W9.7Re1.1  24   909.318507\n",
       "27   Nb86.9Hf1.2Ta1.2W9.7Re1.1  24   909.369433\n",
       "28       Nb87.0Zr1.1Ta0.6W11.3  24   914.503917\n",
       "29  Nb84.4Zr1.2Hf0.6Ta2.9W10.9  24   912.212966\n",
       "30       Nb86.8Hf1.2Ta0.6W11.4  24   914.254221"
      ]
     },
     "execution_count": 3,
     "metadata": {},
     "output_type": "execute_result"
    }
   ],
   "source": [
    "df_all_features = df_all[['formula','temp','UTS_Mpa']]\n",
    "df_all_features.columns = ['formula','T','target']\n",
    "df_all_features"
   ]
  },
  {
   "cell_type": "markdown",
   "id": "cb462cf1",
   "metadata": {},
   "source": [
    "### Featurization "
   ]
  },
  {
   "cell_type": "code",
   "execution_count": 10,
   "id": "132c3db3",
   "metadata": {},
   "outputs": [
    {
     "name": "stderr",
     "output_type": "stream",
     "text": [
      "Processing Input Data: 100%|██████████████████| 31/31 [00:00<00:00, 8345.00it/s]\n"
     ]
    },
    {
     "name": "stdout",
     "output_type": "stream",
     "text": [
      "\tFeaturizing Compositions...\n"
     ]
    },
    {
     "name": "stderr",
     "output_type": "stream",
     "text": [
      "Assigning Features...: 100%|██████████████████| 31/31 [00:00<00:00, 9163.68it/s]"
     ]
    },
    {
     "name": "stdout",
     "output_type": "stream",
     "text": [
      "\tCreating Pandas Objects...\n"
     ]
    },
    {
     "name": "stderr",
     "output_type": "stream",
     "text": [
      "\n"
     ]
    }
   ],
   "source": [
    "from cbfv.composition import generate_features\n",
    "X_feature_all, y_all, formulae_exp, skipped_exp= generate_features(df_all_features,elem_prop='f3_revised',drop_duplicates=False,extend_features=False)\n",
    "\n",
    "# X_feature_all"
   ]
  },
  {
   "cell_type": "code",
   "execution_count": 11,
   "id": "eebc44e0",
   "metadata": {},
   "outputs": [],
   "source": [
    "#print(X_train_unscaled.columns)\n",
    "from sklearn.preprocessing import StandardScaler\n",
    "total_columns = int((X_feature_all.shape[1])/3) \n",
    "X_featue_all_avg = X_feature_all.iloc[:,0:total_columns]\n",
    "\n",
    "\n",
    "\n",
    "scaler = StandardScaler()\n",
    "X_featue_all_avg_scaled = scaler.fit_transform(X_featue_all_avg)\n"
   ]
  },
  {
   "cell_type": "code",
   "execution_count": 12,
   "id": "858fb83b",
   "metadata": {},
   "outputs": [
    {
     "data": {
      "image/png": "[encoded data removed]",
      "text/plain": [
       "<Figure size 576x576 with 1 Axes>"
      ]
     },
     "metadata": {
      "needs_background": "light"
     },
     "output_type": "display_data"
    },
    {
     "data": {
      "text/plain": [
       "array([8.582308  , 0.64392585], dtype=float32)"
      ]
     },
     "execution_count": 12,
     "metadata": {},
     "output_type": "execute_result"
    }
   ],
   "source": [
    "import umap\n",
    "import seaborn as sns\n",
    "import matplotlib.pyplot as plt\n",
    "from matplotlib.patches import Ellipse\n",
    "\n",
    "reducer = umap.UMAP(random_state=56, n_neighbors =7)\n",
    "ar_umap=reducer.fit_transform(X_featue_all_avg_scaled)\n",
    "ar_umap\n",
    "plt.figure(figsize=(8,8))\n",
    "plt.scatter(ar_umap[0:17:,0],ar_umap[:17,1],label='Experimental Data', s=df_all['UTS_Mpa'][:17]/1.5, alpha=.7)\n",
    "plt.scatter(ar_umap[17:31,0],ar_umap[17:31,1],label='Candidate Selection',s=df_all['UTS_Mpa'][17:31]/1.5,alpha=.7)\n",
    "plt.legend(prop={'size': 16})\n",
    "plt.xlabel('UMAP 1',size=14)\n",
    "plt.ylabel('UMAP 2',size=14)\n",
    "\n",
    "plt.title(\"UMAP by features for UTS\",size=14)\n",
    "\n",
    "\n",
    "# for k, v in pd.DataFrame(ar_umap).iterrows():\n",
    "#     plt.annotate(k, v)\n",
    "\n",
    "plt.tick_params(labelsize=14)\n",
    "plt.show()\n",
    "df_all_features.iloc[17]\n",
    "\n",
    "ar_umap[17]     "
   ]
  },
  {
   "cell_type": "code",
   "execution_count": null,
   "id": "f7539119",
   "metadata": {},
   "outputs": [],
   "source": []
  }
 ],
 "metadata": {
  "kernelspec": {
   "display_name": "Python 3 (ipykernel)",
   "language": "python",
   "name": "python3"
  },
  "language_info": {
   "codemirror_mode": {
    "name": "ipython",
    "version": 3
   },
   "file_extension": ".py",
   "mimetype": "text/x-python",
   "name": "python",
   "nbconvert_exporter": "python",
   "pygments_lexer": "ipython3",
   "version": "3.9.6"
  }
 },
 "nbformat": 4,
 "nbformat_minor": 5
}
