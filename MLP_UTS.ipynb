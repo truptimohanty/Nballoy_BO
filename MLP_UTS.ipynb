{
 "cells": [
  {
   "cell_type": "markdown",
   "id": "512d6e2f",
   "metadata": {},
   "source": [
    "## Multi Layer Perceptron using Grid Search K fold "
   ]
  },
  {
   "cell_type": "code",
   "execution_count": 1,
   "id": "0cb9fbb2",
   "metadata": {},
   "outputs": [
    {
     "name": "stderr",
     "output_type": "stream",
     "text": [
      "2022-12-17 15:44:22.552849: I tensorflow/core/platform/cpu_feature_guard.cc:193] This TensorFlow binary is optimized with oneAPI Deep Neural Network Library (oneDNN) to use the following CPU instructions in performance-critical operations:  AVX2 FMA\n",
      "To enable them in other operations, rebuild TensorFlow with the appropriate compiler flags.\n"
     ]
    }
   ],
   "source": [
    "import pandas as pd\n",
    "from cbfv.composition import generate_features\n",
    "from sklearn.preprocessing import StandardScaler\n",
    "from sklearn.metrics import mean_absolute_error,mean_squared_error,r2_score\n",
    "from sklearn.model_selection import GridSearchCV\n",
    "from sklearn.model_selection import GroupKFold\n",
    "\n",
    "from keras.models import Sequential, Model\n",
    "from keras.layers import Dense, Input\n",
    "\n",
    "from keras.wrappers.scikit_learn import KerasRegressor\n",
    "\n",
    "import pandas as pd\n",
    "from cbfv.composition import generate_features\n",
    "\n",
    "\n",
    "import tensorflow\n",
    "from sklearn.model_selection import GridSearchCV\n",
    "\n"
   ]
  },
  {
   "cell_type": "markdown",
   "id": "fee9df2a",
   "metadata": {},
   "source": [
    "## Input Data Loading "
   ]
  },
  {
   "cell_type": "code",
   "execution_count": 2,
   "id": "a35ae774",
   "metadata": {},
   "outputs": [
    {
     "name": "stdout",
     "output_type": "stream",
     "text": [
      "size of train data 117\n",
      "size of test data 27\n"
     ]
    }
   ],
   "source": [
    "df_train = pd.read_csv('data/model_input/train_ultimatestrength.csv')\n",
    "df_test = pd.read_csv('data/model_input/test_ultimatestrength.csv')\n",
    "print('size of train data', len(df_train))\n",
    "print('size of test data',len(df_test))\n"
   ]
  },
  {
   "cell_type": "markdown",
   "id": "7f61f01d",
   "metadata": {},
   "source": [
    "## Featurization Oliynyk"
   ]
  },
  {
   "cell_type": "code",
   "execution_count": 3,
   "id": "a8365999",
   "metadata": {},
   "outputs": [
    {
     "name": "stderr",
     "output_type": "stream",
     "text": [
      "Processing Input Data: 100%|████████████████| 117/117 [00:00<00:00, 8910.28it/s]\n"
     ]
    },
    {
     "name": "stdout",
     "output_type": "stream",
     "text": [
      "\tFeaturizing Compositions...\n"
     ]
    },
    {
     "name": "stderr",
     "output_type": "stream",
     "text": [
      "Assigning Features...: 100%|████████████████| 117/117 [00:00<00:00, 6240.02it/s]\n"
     ]
    },
    {
     "name": "stdout",
     "output_type": "stream",
     "text": [
      "\tCreating Pandas Objects...\n"
     ]
    },
    {
     "name": "stderr",
     "output_type": "stream",
     "text": [
      "Processing Input Data: 100%|██████████████████| 27/27 [00:00<00:00, 7627.03it/s]\n"
     ]
    },
    {
     "name": "stdout",
     "output_type": "stream",
     "text": [
      "\tFeaturizing Compositions...\n"
     ]
    },
    {
     "name": "stderr",
     "output_type": "stream",
     "text": [
      "Assigning Features...: 100%|██████████████████| 27/27 [00:00<00:00, 3780.29it/s]\n"
     ]
    },
    {
     "name": "stdout",
     "output_type": "stream",
     "text": [
      "\tCreating Pandas Objects...\n",
      "(117, 133)\n",
      "(117,)\n"
     ]
    }
   ],
   "source": [
    "# FEATURIZATION \n",
    "X_train_unscaled, y_train, formulae_train, skipped_train = generate_features(df_train,elem_prop='oliynyk',drop_duplicates=False,extend_features=True)\n",
    "X_test_unscaled, y_test, formulae_test, skipped_test = generate_features(df_test,elem_prop='oliynyk',drop_duplicates=False,extend_features=True)\n",
    "\n",
    "\n",
    "scaler = StandardScaler()\n",
    "\n",
    "X_train = scaler.fit_transform(X_train_unscaled)\n",
    "X_test = scaler.transform(X_test_unscaled)\n",
    "print(X_train.shape)\n",
    "print(y_train.shape)\n"
   ]
  },
  {
   "cell_type": "markdown",
   "id": "2a125521",
   "metadata": {},
   "source": [
    "## Defining Helper Functions for model Performance Evaluation"
   ]
  },
  {
   "cell_type": "code",
   "execution_count": 4,
   "id": "813b39da",
   "metadata": {},
   "outputs": [],
   "source": [
    "################# EVALUATION MATRIX #######################################\n",
    "def model_evaluation(y_actual,y_predict, label = None,model='None'):\n",
    "    df = pd.DataFrame([{'mae':mean_absolute_error(y_actual,y_predict),\n",
    "                        'rmse':mean_squared_error(y_actual,y_predict,squared=False),\n",
    "                        'r2score':r2_score(y_actual,y_predict),\n",
    "                        'model':model\n",
    "                        }])\n",
    "    if label:\n",
    "        df.index = [label]\n",
    "        \n",
    "    return df\n",
    "\n",
    "def model_evaluation_result(y_Train,y_train_predict,y_Test,y_test_predict,model='None'):\n",
    "    result = pd.concat([model_evaluation(y_Train,y_train_predict,'Train',model),\n",
    "                    model_evaluation(y_Test,y_test_predict, 'Test',model)])\n",
    "    return result\n",
    "\n",
    "\n",
    "def plot_model_performance(y_train,y_train_predict,y_test,y_test_predict,r2_train,r2_test):\n",
    "    plt.figure(figsize=(8,8))\n",
    "    plt.scatter(y_train,y_train_predict, s=160,alpha=0.7, label='Training Data ($r^2$ ={0:.3f})'.format(r2_train))\n",
    "    plt.scatter(y_test,y_test_predict,s=160, alpha=0.7, label='Test Data ($r^2$ ={0:.3f})'.format(r2_test))\n",
    "    # plt.plot(y_test,y_test,'--',dashes=(5, 6),linewidth=2,c='grey',label = 'Ideal Fit')\n",
    "    plt.axline((0, 0), (1200, 1200), linewidth=2, color='k',linestyle='dashed',label='ideal fit')\n",
    "    plt.xlabel('Actual Ultimate Tensile Strength (MPa) ', size=16)\n",
    "    plt.ylabel('Predicted Ultimate Tensile Strength (MPa)',size=16)\n",
    "    plt.tick_params(labelsize=14)\n",
    "    plt.xlim((0,1200))\n",
    "    plt.ylim((0,1200))\n",
    "    plt.legend(prop={'size': 14})\n",
    "    plt.minorticks_on()\n",
    "    plt.tick_params(labelsize=16)\n",
    "    plt.tick_params(direction='in',which='major', length=15, bottom=True, top=True, left=True, right=True,colors='k')\n",
    "    plt.tick_params(direction='in',which='minor', length=5, bottom=True, top=True, left=True, right=True,colors='k')\n"
   ]
  },
  {
   "cell_type": "markdown",
   "id": "f0cae645",
   "metadata": {},
   "source": [
    "## MLP with Grid Search CV"
   ]
  },
  {
   "cell_type": "code",
   "execution_count": 5,
   "id": "592c0765",
   "metadata": {},
   "outputs": [
    {
     "name": "stderr",
     "output_type": "stream",
     "text": [
      "/var/folders/k3/q1g0kjzs35sfzmwfr8ytcwkc0000gn/T/ipykernel_10372/1615911176.py:27: DeprecationWarning: KerasRegressor is deprecated, use Sci-Keras (https://github.com/adriangb/scikeras) instead. See https://www.adriangb.com/scikeras/stable/migration.html for help migrating.\n",
      "  clf = KerasRegressor(build_fn=ANN, verbose=0)\n",
      "2022-12-17 15:44:29.514754: I tensorflow/core/platform/cpu_feature_guard.cc:193] This TensorFlow binary is optimized with oneAPI Deep Neural Network Library (oneDNN) to use the following CPU instructions in performance-critical operations:  AVX2 FMA\n",
      "To enable them in other operations, rebuild TensorFlow with the appropriate compiler flags.\n"
     ]
    },
    {
     "name": "stdout",
     "output_type": "stream",
     "text": [
      "WARNING:tensorflow:5 out of the last 14 calls to <function Model.make_predict_function.<locals>.predict_function at 0x12f011160> triggered tf.function retracing. Tracing is expensive and the excessive number of tracings could be due to (1) creating @tf.function repeatedly in a loop, (2) passing tensors with different shapes, (3) passing Python objects instead of tensors. For (1), please define your @tf.function outside of the loop. For (2), @tf.function has reduce_retracing=True option that can avoid unnecessary retracing. For (3), please refer to https://www.tensorflow.org/guide/function#controlling_retracing and https://www.tensorflow.org/api_docs/python/tf/function for  more details.\n",
      "WARNING:tensorflow:5 out of the last 13 calls to <function Model.make_predict_function.<locals>.predict_function at 0x12f0b1f70> triggered tf.function retracing. Tracing is expensive and the excessive number of tracings could be due to (1) creating @tf.function repeatedly in a loop, (2) passing tensors with different shapes, (3) passing Python objects instead of tensors. For (1), please define your @tf.function outside of the loop. For (2), @tf.function has reduce_retracing=True option that can avoid unnecessary retracing. For (3), please refer to https://www.tensorflow.org/guide/function#controlling_retracing and https://www.tensorflow.org/api_docs/python/tf/function for  more details.\n",
      "{'activation': 'relu', 'batch_size': 8, 'epochs': 300, 'loss': 'mae', 'neurons': 32, 'optimizer': 'adam'}\n",
      "MSE:44414.89662326318\n"
     ]
    },
    {
     "data": {
      "text/plain": [
       "<keras.callbacks.History at 0x12f6e0eb0>"
      ]
     },
     "execution_count": 5,
     "metadata": {},
     "output_type": "execute_result"
    }
   ],
   "source": [
    "tensorflow.keras.utils.set_random_seed(20)\n",
    "\n",
    "\n",
    "# Base estimator \n",
    "def ANN(optimizer = 'adam',neurons=32,batch_size=32,epochs=50,activation='relu',loss='mse'):\n",
    "    model = Sequential()\n",
    "    model.add(Dense(neurons, input_shape=(X_train.shape[1],), activation=activation))\n",
    "    model.add(Dense(neurons, activation=activation))\n",
    "    model.add(Dense(1))\n",
    "    model.compile(optimizer = optimizer, loss=loss)\n",
    "    return model\n",
    "\n",
    "# Grid Search Param \n",
    "ann_params = {\n",
    "    'optimizer': ['adam','rmsprop'],\n",
    "    'activation': ['relu'],\n",
    "    'loss': ['mse','mae'],\n",
    "    'batch_size': [8,16],\n",
    "    'neurons':[8,16,32],\n",
    "    'epochs':[100,150,200,300],\n",
    "}\n",
    "\n",
    "\n",
    "# group K fold 5\n",
    "gkf=GroupKFold(n_splits=5)\n",
    "\n",
    "clf = KerasRegressor(build_fn=ANN, verbose=0)\n",
    "grid = GridSearchCV(clf, ann_params,cv=gkf,scoring='neg_mean_squared_error')\n",
    "\n",
    "\n",
    "grid.fit(X_train, y_train,groups=formulae_train)\n",
    "\n",
    "print(grid.best_params_)\n",
    "\n",
    "print(\"MSE:\"+ str(-grid.best_score_))\n",
    "\n",
    "\n",
    "best = grid.best_estimator_\n",
    "tensorflow.keras.utils.set_random_seed(20)\n",
    "\n",
    "best.fit(X_train,y_train)\n"
   ]
  },
  {
   "cell_type": "markdown",
   "id": "86e3551c",
   "metadata": {},
   "source": [
    "## Performance Matrix"
   ]
  },
  {
   "cell_type": "code",
   "execution_count": 7,
   "id": "3384f412",
   "metadata": {},
   "outputs": [
    {
     "name": "stdout",
     "output_type": "stream",
     "text": [
      "         mae       rmse   r2score model\n",
      "0  32.929398  46.338743  0.936328  None\n",
      "         mae        rmse   r2score model\n",
      "0  96.910691  157.611855  0.624131  None\n"
     ]
    }
   ],
   "source": [
    "y_test_predict = best.predict(X_test)\n",
    "y_train_predict = best.predict(X_train)\n",
    "print(model_evaluation(y_train,y_train_predict))\n",
    "print(model_evaluation(y_test,y_test_predict))\n"
   ]
  },
  {
   "cell_type": "code",
   "execution_count": 8,
   "id": "e4b7e890",
   "metadata": {},
   "outputs": [
    {
     "name": "stderr",
     "output_type": "stream",
     "text": [
      "/var/folders/k3/q1g0kjzs35sfzmwfr8ytcwkc0000gn/T/ipykernel_10372/583384122.py:16: DeprecationWarning: KerasRegressor is deprecated, use Sci-Keras (https://github.com/adriangb/scikeras) instead. See https://www.adriangb.com/scikeras/stable/migration.html for help migrating.\n",
      "  model = KerasRegressor(build_fn = create_model,verbose = 0,batch_size = 8,epochs = 300)\n"
     ]
    },
    {
     "name": "stdout",
     "output_type": "stream",
     "text": [
      "         mae       rmse   r2score model\n",
      "0  32.929398  46.338743  0.936328  None\n",
      "         mae        rmse   r2score model\n",
      "0  96.910691  157.611855  0.624131  None\n"
     ]
    }
   ],
   "source": [
    "tensorflow.keras.utils.set_random_seed(20)\n",
    "\n",
    "def create_model():\n",
    "    model = Sequential()\n",
    "    model.add(Dense(32,input_dim = X_train.shape[1],activation = 'relu'))\n",
    "    \n",
    "    model.add(Dense(32,activation = 'relu'))\n",
    "    \n",
    "    model.add(Dense(1))\n",
    "    \n",
    "    model.compile(loss = 'mae',optimizer = 'adam')\n",
    "    return model\n",
    "\n",
    "# Create the model\n",
    "\n",
    "model = KerasRegressor(build_fn = create_model,verbose = 0,batch_size = 8,epochs = 300)\n",
    "\n",
    "# Fitting the model\n",
    "\n",
    "model.fit(X_train,y_train)\n",
    "\n",
    "# Predicting using trained model\n",
    "\n",
    "y_test_predict = model.predict(X_test)\n",
    "y_train_predict = model.predict(X_train)\n",
    "print(model_evaluation(y_train,y_train_predict))\n",
    "print(model_evaluation(y_test,y_test_predict))"
   ]
  },
  {
   "cell_type": "markdown",
   "id": "fa45f5a7",
   "metadata": {},
   "source": [
    "## Featurization with Custom Features "
   ]
  },
  {
   "cell_type": "code",
   "execution_count": 9,
   "id": "d3f433d1",
   "metadata": {},
   "outputs": [
    {
     "name": "stderr",
     "output_type": "stream",
     "text": [
      "Processing Input Data: 100%|███████████████| 117/117 [00:00<00:00, 19259.56it/s]\n"
     ]
    },
    {
     "name": "stdout",
     "output_type": "stream",
     "text": [
      "\tFeaturizing Compositions...\n"
     ]
    },
    {
     "name": "stderr",
     "output_type": "stream",
     "text": [
      "Assigning Features...: 100%|████████████████| 117/117 [00:00<00:00, 7731.98it/s]\n"
     ]
    },
    {
     "name": "stdout",
     "output_type": "stream",
     "text": [
      "\tCreating Pandas Objects...\n"
     ]
    },
    {
     "name": "stderr",
     "output_type": "stream",
     "text": [
      "Processing Input Data: 100%|█████████████████| 27/27 [00:00<00:00, 11790.34it/s]\n"
     ]
    },
    {
     "name": "stdout",
     "output_type": "stream",
     "text": [
      "\tFeaturizing Compositions...\n"
     ]
    },
    {
     "name": "stderr",
     "output_type": "stream",
     "text": [
      "Assigning Features...: 100%|██████████████████| 27/27 [00:00<00:00, 3422.58it/s]"
     ]
    },
    {
     "name": "stdout",
     "output_type": "stream",
     "text": [
      "\tCreating Pandas Objects...\n",
      "shape of the features space: (117, 15)\n"
     ]
    },
    {
     "name": "stderr",
     "output_type": "stream",
     "text": [
      "\n"
     ]
    }
   ],
   "source": [
    "# FEATURIZATION \n",
    "X_train_unscaled, y_train, formulae_train, skipped_train = generate_features(df_train,elem_prop='f3_revised',drop_duplicates=False,extend_features=True)\n",
    "X_test_unscaled, y_test, formulae_test, skipped_test = generate_features(df_test,elem_prop='f3_revised',drop_duplicates=False,extend_features=True)\n",
    "\n",
    "\n",
    "X_train_unscaled_avg = X_train_unscaled[['avg_Atomic_Radius','avg_Pauling_Electronegativity','avg_number_of_valence_electrons','avg_Cohesive_energy_ev_atom',\n",
    "            'avg_Bulk_modulus_RT_Gpa','avg_Elastic_modulus_RT_Gpa','avg_Shear_modulus_RT_Gpa','avg_Melting_point_(K)','avg_rate_shear_mod_Mpa_perK',\n",
    "            'avg_Solid_Solubility_atpct','avg_lattice_constant_A','avg_BEC_percm3','avg_Av.Valence_bond_strength_ev','avg_EngelZ_e/a','T']]\n",
    "\n",
    "X_test_unscaled_avg = X_test_unscaled[['avg_Atomic_Radius','avg_Pauling_Electronegativity','avg_number_of_valence_electrons','avg_Cohesive_energy_ev_atom',\n",
    "            'avg_Bulk_modulus_RT_Gpa','avg_Elastic_modulus_RT_Gpa','avg_Shear_modulus_RT_Gpa','avg_Melting_point_(K)','avg_rate_shear_mod_Mpa_perK',\n",
    "            'avg_Solid_Solubility_atpct','avg_lattice_constant_A','avg_BEC_percm3','avg_Av.Valence_bond_strength_ev','avg_EngelZ_e/a','T']]\n",
    "\n",
    "\n",
    "\n",
    "train_data_avg = X_train_unscaled_avg.join(y_train)\n",
    "test_data_avg = X_test_unscaled_avg.join(y_test)\n",
    "total_data_avg = pd.concat([train_data_avg,test_data_avg])\n",
    "total_data_avg.shape\n",
    "\n",
    "\n",
    "print('shape of the features space:',X_train_unscaled_avg.shape)\n",
    "\n",
    "\n",
    "# Instantiate the standard scaler\n",
    "scaler = StandardScaler()\n",
    "# zero mean and unit variance\n",
    "X_train = scaler.fit_transform(X_train_unscaled_avg)\n",
    "X_test = scaler.transform(X_test_unscaled_avg)\n"
   ]
  },
  {
   "cell_type": "markdown",
   "id": "4d21073b",
   "metadata": {},
   "source": [
    "## MLP wit Gird Search CV"
   ]
  },
  {
   "cell_type": "code",
   "execution_count": 10,
   "id": "64fcf852",
   "metadata": {},
   "outputs": [
    {
     "name": "stderr",
     "output_type": "stream",
     "text": [
      "/var/folders/k3/q1g0kjzs35sfzmwfr8ytcwkc0000gn/T/ipykernel_10372/870770402.py:24: DeprecationWarning: KerasRegressor is deprecated, use Sci-Keras (https://github.com/adriangb/scikeras) instead. See https://www.adriangb.com/scikeras/stable/migration.html for help migrating.\n",
      "  clf = KerasRegressor(build_fn=ANN, verbose=0)\n"
     ]
    },
    {
     "name": "stdout",
     "output_type": "stream",
     "text": [
      "{'activation': 'relu', 'batch_size': 8, 'epochs': 300, 'loss': 'mae', 'neurons': 32, 'optimizer': 'adam'}\n",
      "MSE:25548.220434769628\n"
     ]
    },
    {
     "data": {
      "text/plain": [
       "<keras.callbacks.History at 0x12f906220>"
      ]
     },
     "execution_count": 10,
     "metadata": {},
     "output_type": "execute_result"
    }
   ],
   "source": [
    "tensorflow.keras.utils.set_random_seed(20)\n",
    "\n",
    "def ANN(optimizer = 'adam',neurons=32,batch_size=32,epochs=50,activation='relu',loss='mse'):\n",
    "    model = Sequential()\n",
    "    model.add(Dense(neurons, input_shape=(X_train.shape[1],), activation=activation))\n",
    "    model.add(Dense(neurons, activation=activation))\n",
    "  \n",
    "    model.add(Dense(1))\n",
    "    model.compile(optimizer = optimizer, loss=loss)\n",
    "    return model\n",
    "\n",
    "ann_params = {\n",
    "    'optimizer': ['adam','rmsprop'],\n",
    "    'activation': ['relu'],\n",
    "    'loss': ['mse','mae'],\n",
    "    'batch_size': [8,16],\n",
    "    'neurons':[8,16,32],\n",
    "    'epochs':[100,150,200,300],\n",
    "}\n",
    "\n",
    "\n",
    "gkf=GroupKFold(n_splits=5)\n",
    "\n",
    "clf = KerasRegressor(build_fn=ANN, verbose=0)\n",
    "grid = GridSearchCV(clf, ann_params,cv=gkf,scoring='neg_mean_squared_error')\n",
    "\n",
    "\n",
    "grid.fit(X_train, y_train,groups=formulae_train)\n",
    "\n",
    "print(grid.best_params_)\n",
    "\n",
    "print(\"MSE:\"+ str(-grid.best_score_))\n",
    "\n",
    "\n",
    "best = grid.best_estimator_\n",
    "tensorflow.keras.utils.set_random_seed(20)\n",
    "\n",
    "best.fit(X_train,y_train)\n"
   ]
  },
  {
   "cell_type": "markdown",
   "id": "15e0b181",
   "metadata": {},
   "source": [
    "## Perfomance Matrix"
   ]
  },
  {
   "cell_type": "code",
   "execution_count": 11,
   "id": "c6b5d9d5",
   "metadata": {},
   "outputs": [
    {
     "name": "stdout",
     "output_type": "stream",
     "text": [
      "        mae       rmse   r2score model\n",
      "0  40.10982  58.798253  0.897484  None\n"
     ]
    },
    {
     "data": {
      "text/html": [
       "<div>\n",
       "<style scoped>\n",
       "    .dataframe tbody tr th:only-of-type {\n",
       "        vertical-align: middle;\n",
       "    }\n",
       "\n",
       "    .dataframe tbody tr th {\n",
       "        vertical-align: top;\n",
       "    }\n",
       "\n",
       "    .dataframe thead th {\n",
       "        text-align: right;\n",
       "    }\n",
       "</style>\n",
       "<table border=\"1\" class=\"dataframe\">\n",
       "  <thead>\n",
       "    <tr style=\"text-align: right;\">\n",
       "      <th></th>\n",
       "      <th>mae</th>\n",
       "      <th>rmse</th>\n",
       "      <th>r2score</th>\n",
       "      <th>model</th>\n",
       "    </tr>\n",
       "  </thead>\n",
       "  <tbody>\n",
       "    <tr>\n",
       "      <th>0</th>\n",
       "      <td>120.170009</td>\n",
       "      <td>155.936196</td>\n",
       "      <td>0.632081</td>\n",
       "      <td>None</td>\n",
       "    </tr>\n",
       "  </tbody>\n",
       "</table>\n",
       "</div>"
      ],
      "text/plain": [
       "          mae        rmse   r2score model\n",
       "0  120.170009  155.936196  0.632081  None"
      ]
     },
     "execution_count": 11,
     "metadata": {},
     "output_type": "execute_result"
    }
   ],
   "source": [
    "y_test_predict = best.predict(X_test)\n",
    "y_train_predict = best.predict(X_train)\n",
    "print(model_evaluation(y_train,y_train_predict))\n",
    "model_evaluation(y_test,y_test_predict)"
   ]
  },
  {
   "cell_type": "code",
   "execution_count": 12,
   "id": "4c1e0330",
   "metadata": {},
   "outputs": [
    {
     "name": "stderr",
     "output_type": "stream",
     "text": [
      "/var/folders/k3/q1g0kjzs35sfzmwfr8ytcwkc0000gn/T/ipykernel_10372/2235905224.py:16: DeprecationWarning: KerasRegressor is deprecated, use Sci-Keras (https://github.com/adriangb/scikeras) instead. See https://www.adriangb.com/scikeras/stable/migration.html for help migrating.\n",
      "  model = KerasRegressor(build_fn = create_model,verbose = 0,batch_size = 8,epochs = 300)\n"
     ]
    },
    {
     "name": "stdout",
     "output_type": "stream",
     "text": [
      "         mae       rmse   r2score model\n",
      "0  38.799743  49.962906  0.925979  None\n",
      "         mae        rmse   r2score model\n",
      "0  133.92718  169.558215  0.564993  None\n"
     ]
    }
   ],
   "source": [
    "tensorflow.keras.utils.set_random_seed(20)\n",
    "\n",
    "def create_model():\n",
    "    model = Sequential()\n",
    "    model.add(Dense(32,input_dim = X_train.shape[1],activation = 'relu'))\n",
    "    \n",
    "    model.add(Dense(32,activation = 'relu'))\n",
    "    \n",
    "    model.add(Dense(1))\n",
    "    \n",
    "    model.compile(loss = 'mse',optimizer = 'adam')\n",
    "    return model\n",
    "\n",
    "# Create the model\n",
    "\n",
    "model = KerasRegressor(build_fn = create_model,verbose = 0,batch_size = 8,epochs = 300)\n",
    "\n",
    "# Fitting the model\n",
    "\n",
    "model.fit(X_train,y_train)\n",
    "\n",
    "# Predicting using trained model\n",
    "\n",
    "y_test_predict = model.predict(X_test)\n",
    "y_train_predict = model.predict(X_train)\n",
    "print(model_evaluation(y_train,y_train_predict))\n",
    "print(model_evaluation(y_test,y_test_predict))"
   ]
  },
  {
   "cell_type": "markdown",
   "id": "3baf2b5a",
   "metadata": {},
   "source": [
    "## Data Load for Composition "
   ]
  },
  {
   "cell_type": "code",
   "execution_count": 13,
   "id": "24ef92fe",
   "metadata": {},
   "outputs": [
    {
     "name": "stdout",
     "output_type": "stream",
     "text": [
      "size of train data 117\n",
      "size of test data 27\n"
     ]
    }
   ],
   "source": [
    "df_train = pd.read_csv('data/model_input/train_ultimatestrength_composition.csv')\n",
    "df_test = pd.read_csv('data/model_input/test_ultimatestrength_composition.csv')\n",
    "print('size of train data', len(df_train))\n",
    "print('size of test data',len(df_test))\n"
   ]
  },
  {
   "cell_type": "code",
   "execution_count": 14,
   "id": "c2170e09",
   "metadata": {},
   "outputs": [],
   "source": [
    "X_train_unscaled = df_train[['Nb','Zr','V','Ta','W','Ti','Mo','C','Hf','T']]\n",
    "y_train = df_train['target']\n",
    "X_test_unscaled = df_test[['Nb','Zr','V','Ta','W','Ti','Mo','C','Hf','T']]\n",
    "y_test = df_test['target']\n",
    "formulae_train = df_train['formula']"
   ]
  },
  {
   "cell_type": "code",
   "execution_count": 15,
   "id": "c564394c",
   "metadata": {},
   "outputs": [
    {
     "data": {
      "text/plain": [
       "Nb    87.7\n",
       "Zr     1.1\n",
       "V      0.0\n",
       "Ta     0.0\n",
       "W     11.2\n",
       "Ti     0.0\n",
       "Mo     0.0\n",
       "C      0.0\n",
       "Hf     0.0\n",
       "T     24.0\n",
       "Name: 12, dtype: float64"
      ]
     },
     "execution_count": 15,
     "metadata": {},
     "output_type": "execute_result"
    }
   ],
   "source": [
    "scaler = StandardScaler()\n",
    "\n",
    "X_train = scaler.fit_transform(X_train_unscaled)\n",
    "X_test = scaler.transform(X_test_unscaled)\n",
    "\n",
    "X_test_unscaled.iloc[12]"
   ]
  },
  {
   "cell_type": "markdown",
   "id": "682ee591",
   "metadata": {},
   "source": [
    "## MLP with Grid Search"
   ]
  },
  {
   "cell_type": "code",
   "execution_count": 16,
   "id": "d13e1556",
   "metadata": {},
   "outputs": [
    {
     "name": "stderr",
     "output_type": "stream",
     "text": [
      "/var/folders/k3/q1g0kjzs35sfzmwfr8ytcwkc0000gn/T/ipykernel_10372/355730797.py:28: DeprecationWarning: KerasRegressor is deprecated, use Sci-Keras (https://github.com/adriangb/scikeras) instead. See https://www.adriangb.com/scikeras/stable/migration.html for help migrating.\n",
      "  clf = KerasRegressor(build_fn=ANN, verbose=0)\n"
     ]
    },
    {
     "name": "stdout",
     "output_type": "stream",
     "text": [
      "{'activation': 'relu', 'batch_size': 8, 'epochs': 300, 'loss': 'mse', 'neurons': 16, 'optimizer': 'adam'}\n",
      "MSE:20586.742201243538\n"
     ]
    }
   ],
   "source": [
    "tensorflow.keras.utils.set_random_seed(20)\n",
    "\n",
    "def ANN(optimizer = 'adam',neurons=32,batch_size=32,epochs=50,activation='relu',loss='mse'):\n",
    "    model = Sequential()\n",
    "    model.add(Dense(neurons, input_shape=(X_train.shape[1],), activation=activation))\n",
    "    model.add(Dense(neurons, activation=activation))\n",
    "    \n",
    "    model.add(Dense(1))\n",
    "    model.compile(optimizer = optimizer, loss=loss)\n",
    "    return model\n",
    "\n",
    "\n",
    "ann_params = {\n",
    "    'optimizer': ['adam','rmsprop'],\n",
    "    'activation': ['relu'],\n",
    "    'loss': ['mse','mae'],\n",
    "    'batch_size': [8,16],\n",
    "    'neurons':[8,16,32],\n",
    "    'epochs':[100,150,200,300],\n",
    "}\n",
    "\n",
    "\n",
    "\n",
    "\n",
    "\n",
    "gkf=GroupKFold(n_splits=5)\n",
    "\n",
    "clf = KerasRegressor(build_fn=ANN, verbose=0)\n",
    "grid = GridSearchCV(clf, ann_params,cv=gkf,scoring='neg_mean_squared_error')\n",
    "\n",
    "\n",
    "grid.fit(X_train, y_train,groups=formulae_train)\n",
    "\n",
    "print(grid.best_params_)\n",
    "\n",
    "print(\"MSE:\"+ str(-grid.best_score_))\n",
    "\n",
    "\n",
    "best = grid.best_estimator_\n",
    "tensorflow.keras.utils.set_random_seed(20)\n"
   ]
  },
  {
   "cell_type": "markdown",
   "id": "2bd2151d",
   "metadata": {},
   "source": [
    "## Performance Matrix"
   ]
  },
  {
   "cell_type": "code",
   "execution_count": 18,
   "id": "b41d0997",
   "metadata": {},
   "outputs": [
    {
     "name": "stdout",
     "output_type": "stream",
     "text": [
      "         mae       rmse   r2score model\n",
      "0  39.671559  51.332061  0.921866  None\n",
      "        mae        rmse   r2score model\n",
      "0  101.6863  133.281931  0.731218  None\n"
     ]
    }
   ],
   "source": [
    "y_test_predict = best.predict(X_test)\n",
    "y_train_predict = best.predict(X_train)\n",
    "print(model_evaluation(y_train,y_train_predict))\n",
    "print(model_evaluation(y_test,y_test_predict))"
   ]
  },
  {
   "cell_type": "code",
   "execution_count": null,
   "id": "f8d1ffa3",
   "metadata": {},
   "outputs": [],
   "source": []
  }
 ],
 "metadata": {
  "kernelspec": {
   "display_name": "Python 3 (ipykernel)",
   "language": "python",
   "name": "python3"
  },
  "language_info": {
   "codemirror_mode": {
    "name": "ipython",
    "version": 3
   },
   "file_extension": ".py",
   "mimetype": "text/x-python",
   "name": "python",
   "nbconvert_exporter": "python",
   "pygments_lexer": "ipython3",
   "version": "3.9.6"
  }
 },
 "nbformat": 4,
 "nbformat_minor": 5
}
