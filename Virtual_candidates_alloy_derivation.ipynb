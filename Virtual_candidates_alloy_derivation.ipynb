{
 "cells": [
  {
   "cell_type": "markdown",
   "id": "7eb9b773",
   "metadata": {},
   "source": [
    "## Virtual alloy composition derivation considering the alloying elements \n",
    "['B', 'C', 'N','Si','Ti','V','Cr','Co', 'Zr', 'Mo','Hf','Ta' ,'W' ,'Re']\n",
    "with \n"
   ]
  },
  {
   "cell_type": "code",
   "execution_count": 1,
   "id": "afaefa09",
   "metadata": {},
   "outputs": [],
   "source": [
    "from itertools import combinations,product\n",
    "import numpy as np\n",
    "import pandas as pd\n"
   ]
  },
  {
   "cell_type": "markdown",
   "id": "1a23db95",
   "metadata": {},
   "source": [
    "## Defining each elements min and max value with step size and in weight percent"
   ]
  },
  {
   "cell_type": "code",
   "execution_count": 2,
   "id": "ff89b872",
   "metadata": {},
   "outputs": [
    {
     "data": {
      "text/plain": [
       "{'B': array([1, 2, 3, 4, 5]),\n",
       " 'C': array([1, 2, 3, 4, 5]),\n",
       " 'N': array([1, 2, 3, 4, 5]),\n",
       " 'Si': array([ 1,  2,  3,  4,  5,  6,  7,  8,  9, 10, 11, 12, 13, 14, 15, 16, 17,\n",
       "        18, 19, 20]),\n",
       " 'Ti': array([ 1,  2,  3,  4,  5,  6,  7,  8,  9, 10, 11, 12, 13, 14, 15, 16, 17,\n",
       "        18, 19, 20]),\n",
       " 'V': array([ 1,  2,  3,  4,  5,  6,  7,  8,  9, 10, 11, 12, 13, 14, 15, 16, 17,\n",
       "        18, 19, 20]),\n",
       " 'Cr': array([ 1,  2,  3,  4,  5,  6,  7,  8,  9, 10, 11, 12, 13, 14, 15, 16, 17,\n",
       "        18, 19, 20]),\n",
       " 'Co': array([ 1,  2,  3,  4,  5,  6,  7,  8,  9, 10, 11, 12, 13, 14, 15, 16, 17,\n",
       "        18, 19, 20]),\n",
       " 'Zr': array([ 1,  2,  3,  4,  5,  6,  7,  8,  9, 10, 11, 12, 13, 14, 15, 16, 17,\n",
       "        18, 19, 20]),\n",
       " 'Mo': array([ 1,  2,  3,  4,  5,  6,  7,  8,  9, 10, 11, 12, 13, 14, 15, 16, 17,\n",
       "        18, 19, 20]),\n",
       " 'Hf': array([ 1,  2,  3,  4,  5,  6,  7,  8,  9, 10, 11, 12, 13, 14, 15, 16, 17,\n",
       "        18, 19, 20]),\n",
       " 'Ta': array([ 1,  2,  3,  4,  5,  6,  7,  8,  9, 10, 11, 12, 13, 14, 15, 16, 17,\n",
       "        18, 19, 20]),\n",
       " 'W': array([ 1,  2,  3,  4,  5,  6,  7,  8,  9, 10, 11, 12, 13, 14, 15, 16, 17,\n",
       "        18, 19, 20]),\n",
       " 'Re': array([ 1,  2,  3,  4,  5,  6,  7,  8,  9, 10, 11, 12, 13, 14, 15, 16, 17,\n",
       "        18, 19, 20])}"
      ]
     },
     "execution_count": 2,
     "metadata": {},
     "output_type": "execute_result"
    }
   ],
   "source": [
    "## FOR ALL 14 elements \n",
    "## B, C, N and Si varies from 1 weigth percent to 5 weight percent \n",
    "element_ranges ={\n",
    "    \"B\"   : np.arange(1,6,1),\n",
    "    \"C\"   : np.arange(1,6,1),\n",
    "    \"N\"   : np.arange(1,6,1),\n",
    "    \"Si\"  : np.arange(1,21,1),\n",
    "    \"Ti\"  : np.arange(1,21,1),\n",
    "    \"V\"   : np.arange(1,21,1),\n",
    "    \"Cr\"  : np.arange(1,21,1),\n",
    "    \"Co\"  : np.arange(1,21,1),\n",
    "    \"Zr\"  : np.arange(1,21,1),\n",
    "    \"Mo\"  : np.arange(1,21,1),\n",
    "    \"Hf\"  : np.arange(1,21,1),\n",
    "    \"Ta\"  : np.arange(1,21,1),\n",
    "    \"W\"   : np.arange(1,21,1),\n",
    "    \"Re\"  : np.arange(1,21,1)\n",
    "}\n",
    "\n",
    "\n",
    "element_ranges"
   ]
  },
  {
   "cell_type": "code",
   "execution_count": 3,
   "id": "5380d733",
   "metadata": {},
   "outputs": [],
   "source": [
    "## Total 14 elements \n",
    "elements = ['B', 'C', 'N','Si','Ti','V','Cr','Co', 'Zr', 'Mo','Hf','Ta' ,'W' ,'Re']"
   ]
  },
  {
   "cell_type": "markdown",
   "id": "1d07893e",
   "metadata": {},
   "source": [
    "## Function for creating different alloy composition in weight percent (default 4 elements including Niobium)"
   ]
  },
  {
   "cell_type": "code",
   "execution_count": 4,
   "id": "6ae7307b",
   "metadata": {},
   "outputs": [],
   "source": [
    "def get_compositions(elements,element_ranges_dict,comb = 3): \n",
    "    \n",
    "    # for quinary alloy compositions comb = 4\n",
    "    # for quarternary alloy compositions comb = 3\n",
    "    final_compositions = []\n",
    "    for elements_sel in combinations(elements,comb):\n",
    "        element_sel_rangers = [element_ranges_dict[e] for e in elements_sel]\n",
    "        element_comps = list(product(*element_sel_rangers))\n",
    "        for element_comp  in element_comps:\n",
    "            element_comp = np.round(element_comp,1)\n",
    "            final_prod = \"Nb\"+str(100 - np.sum(element_comp))         \n",
    "            for e,c in zip(elements_sel,element_comp):\n",
    "                final_prod = final_prod + e +str(c)\n",
    "            final_compositions.append(final_prod)\n",
    "    return(final_compositions)"
   ]
  },
  {
   "cell_type": "code",
   "execution_count": 9,
   "id": "1eec511d",
   "metadata": {
    "scrolled": false
   },
   "outputs": [
    {
     "data": {
      "text/plain": [
       "1666625"
      ]
     },
     "execution_count": 9,
     "metadata": {},
     "output_type": "execute_result"
    }
   ],
   "source": [
    "\n",
    "final_composition = get_compositions(elements, element_ranges, comb=3)\n",
    "len(final_composition)\n"
   ]
  },
  {
   "cell_type": "code",
   "execution_count": 10,
   "id": "d85d16f5",
   "metadata": {},
   "outputs": [],
   "source": [
    "df_composition = pd.DataFrame({\"wt_pct\":final_composition})"
   ]
  },
  {
   "cell_type": "code",
   "execution_count": 11,
   "id": "7cae4bb9",
   "metadata": {},
   "outputs": [
    {
     "data": {
      "text/plain": [
       "(1666625, 3)"
      ]
     },
     "execution_count": 11,
     "metadata": {},
     "output_type": "execute_result"
    }
   ],
   "source": [
    "# considering temperature 24 deg C\n",
    "df_composition['T']=24\n",
    "df_composition['target']=0\n",
    "df_composition.shape"
   ]
  },
  {
   "cell_type": "markdown",
   "id": "3a73d1a2",
   "metadata": {},
   "source": [
    "## Writing to .csv file "
   ]
  },
  {
   "cell_type": "code",
   "execution_count": 8,
   "id": "aad27241",
   "metadata": {},
   "outputs": [],
   "source": [
    "#df_composition.to_csv('data/compositions_test_24degc_allcombinations_5elements.csv',index=False)"
   ]
  },
  {
   "cell_type": "code",
   "execution_count": null,
   "id": "ea7844ca",
   "metadata": {},
   "outputs": [],
   "source": []
  }
 ],
 "metadata": {
  "kernelspec": {
   "display_name": "Python 3 (ipykernel)",
   "language": "python",
   "name": "python3"
  },
  "language_info": {
   "codemirror_mode": {
    "name": "ipython",
    "version": 3
   },
   "file_extension": ".py",
   "mimetype": "text/x-python",
   "name": "python",
   "nbconvert_exporter": "python",
   "pygments_lexer": "ipython3",
   "version": "3.9.6"
  }
 },
 "nbformat": 4,
 "nbformat_minor": 5
}
