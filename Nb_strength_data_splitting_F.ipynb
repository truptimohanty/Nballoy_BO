{
 "cells": [
  {
   "cell_type": "markdown",
   "id": "67410b26",
   "metadata": {},
   "source": [
    "## Nb alloy strength dataset splitting in train and test dataset using different random seed "
   ]
  },
  {
   "cell_type": "code",
   "execution_count": 1,
   "id": "b2af1081",
   "metadata": {},
   "outputs": [],
   "source": [
    "import pandas as pd\n",
    "import numpy as np\n",
    "rng_seed = 20\n",
    "import seaborn as sns\n"
   ]
  },
  {
   "cell_type": "code",
   "execution_count": 2,
   "id": "81cbe2d2",
   "metadata": {},
   "outputs": [
    {
     "name": "stdout",
     "output_type": "stream",
     "text": [
      "18\n",
      "['Nb99.0Zr1.0' 'Nb94.9Zr5.1' 'Nb91.2V8.8' 'Nb92.0Hf5.4Ti2.0Zr0.5'\n",
      " 'Nb88.7Ta5.7W5.6' 'Nb74.9Ta17.7W6.2Zr1.3' 'Nb79.3Ta19.5Zr1.2'\n",
      " 'Nb77.6Ti17.7Zr4.7' 'Nb72.8C0.7Mo8.8Ti17.7' 'Nb96.4W2.6Zr1.0'\n",
      " 'Nb92.9C0.8W5.3Zr1.1' 'Nb92.0W5.3Zr2.7' 'Nb88.6Hf5.8W5.6'\n",
      " 'Nb85.5Mo5.2W8.2Zr1.1' 'Nb76.2Mo5.0Ti10.0W7.8Zr1.0' 'Nb87.7W11.2Zr1.1'\n",
      " 'Nb64.4W10.2Ti19.5Mo5.8' 'Nb85.6V8.8Mo4.7Zr1.0']\n"
     ]
    }
   ],
   "source": [
    "df = pd.read_csv('data/original_data/Nb_alloy_YS_atmpct.csv')\n",
    "unique_formula = df['formula'].unique()\n",
    "print(len(df['formula'].unique()))\n",
    "print(unique_formula)\n",
    "\n"
   ]
  },
  {
   "cell_type": "markdown",
   "id": "b4c036de",
   "metadata": {},
   "source": [
    "### There are total 18 uique Nb alloys "
   ]
  },
  {
   "cell_type": "code",
   "execution_count": 3,
   "id": "1add0aad",
   "metadata": {},
   "outputs": [
    {
     "name": "stdout",
     "output_type": "stream",
     "text": [
      "size of train data 14, size of validation data 0,size of test data4\n"
     ]
    }
   ],
   "source": [
    "#### enter the fraction of data in train and validaton #########\n",
    "train_frac = 0.8\n",
    "val_frac = 0\n",
    "\n",
    "train_size = int(round(train_frac * len(unique_formula)))\n",
    "val_size = int(round(val_frac*len(unique_formula)))\n",
    "test_size = len(unique_formula)-train_size-val_size\n",
    "print(f'size of train data {train_size}, size of validation data {val_size},size of test data{test_size}')"
   ]
  },
  {
   "cell_type": "code",
   "execution_count": 4,
   "id": "fdc2c6a0",
   "metadata": {},
   "outputs": [
    {
     "name": "stdout",
     "output_type": "stream",
     "text": [
      "no of train_formula 14\n",
      "no of test_formula 4\n",
      "no of val_formula 0\n",
      "############ TRAIN ####################\n",
      "Nb88.7Ta5.7W5.6               15\n",
      "Nb77.6Ti17.7Zr4.7             12\n",
      "Nb72.8C0.7Mo8.8Ti17.7         11\n",
      "Nb74.9Ta17.7W6.2Zr1.3         10\n",
      "Nb91.2V8.8                     9\n",
      "Nb79.3Ta19.5Zr1.2              9\n",
      "Nb94.9Zr5.1                    8\n",
      "Nb85.5Mo5.2W8.2Zr1.1           8\n",
      "Nb92.0W5.3Zr2.7                7\n",
      "Nb85.6V8.8Mo4.7Zr1.0           7\n",
      "Nb99.0Zr1.0                    5\n",
      "Nb96.4W2.6Zr1.0                5\n",
      "Nb92.9C0.8W5.3Zr1.1            5\n",
      "Nb76.2Mo5.0Ti10.0W7.8Zr1.0     4\n",
      "Name: formula, dtype: int64\n",
      "############# VALIDATION ############\n",
      "Series([], Name: formula, dtype: int64)\n",
      "############## TEST #############\n",
      "Nb64.4W10.2Ti19.5Mo5.8    9\n",
      "Nb88.6Hf5.8W5.6           7\n",
      "Nb92.0Hf5.4Ti2.0Zr0.5     5\n",
      "Nb87.7W11.2Zr1.1          4\n",
      "Name: formula, dtype: int64\n"
     ]
    }
   ],
   "source": [
    "############ RANDOMLY CHOOSING FORMULAS FOR TRAIN TEST AND VALIDATION BASED ON SIZE ########\n",
    "np.random.seed(rng_seed)\n",
    "train_formula = np.random.choice(unique_formula, size=train_size, replace=False)\n",
    "\n",
    "# remaining formula after choosing train_formula\n",
    "unique_formula_remain = [f for f in unique_formula if f not in train_formula ]\n",
    "\n",
    "# randomly choosing val_formula \n",
    "val_formula = np.random.choice(unique_formula_remain, size=val_size, replace=False)\n",
    "\n",
    "# remaining in test_formula\n",
    "test_formula = [f for f in unique_formula_remain if f not in val_formula]\n",
    "\n",
    "print('no of train_formula', len(train_formula))\n",
    "print('no of test_formula', len(test_formula))\n",
    "print('no of val_formula', len(val_formula))\n",
    "\n",
    "train_dataset = df[df['formula'].isin(train_formula)]\n",
    "val_dataset = df[df['formula'].isin(val_formula)]\n",
    "test_dataset = df[df['formula'].isin(test_formula)]\n",
    "print('############ TRAIN ####################')\n",
    "print(train_dataset['formula'].value_counts())\n",
    "print('############# VALIDATION ############')\n",
    "print(val_dataset['formula'].value_counts())\n",
    "print('############## TEST #############')\n",
    "print(test_dataset['formula'].value_counts())\n"
   ]
  },
  {
   "cell_type": "code",
   "execution_count": 5,
   "id": "0b714349",
   "metadata": {},
   "outputs": [
    {
     "name": "stdout",
     "output_type": "stream",
     "text": [
      "len of common formula in train and val 0\n",
      "len of common formula in train and test 0\n",
      "len of common formula in test and val 0\n"
     ]
    }
   ],
   "source": [
    "############ TO VERIFY IF THERE IS ANY COMMON FORMULA IN TRAIN TEST VALIDATION #######\n",
    "\n",
    "set_train = set(train_dataset['formula'].unique())\n",
    "set_val = set(val_dataset['formula'].unique())\n",
    "set_test = set(test_dataset['formula'].unique())\n",
    "print('len of common formula in train and val', len(set_train.intersection(set_val)))\n",
    "print('len of common formula in train and test', len(set_train.intersection(set_test)))\n",
    "print('len of common formula in test and val', len(set_test.intersection(set_val)))"
   ]
  },
  {
   "cell_type": "code",
   "execution_count": 6,
   "id": "7831898b",
   "metadata": {},
   "outputs": [],
   "source": [
    "############# SAVING DATA in RESPECTIVE train, validation and test.csv ########### \n",
    "train_dataset.to_csv('data/original_data/train_yieldstrength_20.csv', index=False)\n",
    "#val_dataset.to_csv('data/model_input/model_input_seed_30/test_.csv', index=False)\n",
    "test_dataset.to_csv('data/original_data/test_yieldstrength_20.csv', index=False)\n"
   ]
  },
  {
   "cell_type": "code",
   "execution_count": null,
   "id": "78d8f361",
   "metadata": {},
   "outputs": [],
   "source": []
  }
 ],
 "metadata": {
  "kernelspec": {
   "display_name": "Python 3 (ipykernel)",
   "language": "python",
   "name": "python3"
  },
  "language_info": {
   "codemirror_mode": {
    "name": "ipython",
    "version": 3
   },
   "file_extension": ".py",
   "mimetype": "text/x-python",
   "name": "python",
   "nbconvert_exporter": "python",
   "pygments_lexer": "ipython3",
   "version": "3.9.6"
  }
 },
 "nbformat": 4,
 "nbformat_minor": 5
}
